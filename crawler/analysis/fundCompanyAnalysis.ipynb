{
 "cells": [
  {
   "cell_type": "code",
   "execution_count": 5,
   "source": [
    "#根据基金公司持有资金数额，排行前十，出图标\n",
    "\n",
    "\n",
    "from pyecharts.charts import Bar\n",
    "from snapshot_selenium import snapshot\n",
    "from pyecharts import options as opts\n",
    "from pyecharts.options.global_options import ThemeType\n",
    "#from FundCompanyListCrawler import * \n",
    "import pandas as pd\n",
    "import import_ipynb\n",
    " \n",
    "#准备数据\n",
    "#FundCompanyListCrawler.getFundCompanyDataList()\n",
    " \n",
    "print('helloword')\n",
    "from pyecharts.render import make_snapshot\n",
    "bar = Bar(init_opts=opts.InitOpts(bg_color='rgba(255,255,255,1)',theme=ThemeType.LIGHT))\n",
    "bar.add_xaxis([\"易方达\", \"羊毛衫\", \"雪纺衫\", \"裤子\", \"高跟鞋\", \"袜子\"])\n",
    "bar.add_yaxis(\"商家A\", [5, 20, 36, 10, 75, 90])\n",
    "bar.reversal_axis().set_series_opts(label_opts=opts.LabelOpts(position=\"right\"))\n",
    "# render 会生成本地 HTML 文件，默认会在当前目录生成 render.html 文件\n",
    "# 也可以传入路径参数，如 bar.render(\"mycharts.html\")\n",
    "\n",
    "#bar.set_global_opts(title_opts=opts.TitleOpts(\"Theme-default\"), )\n",
    "bar.render_notebook()\n",
    "#make_snapshot(snapshot, bar.render(), \"Options配置项_自定义样式_保存图片.png\")"
   ],
   "outputs": [
    {
     "output_type": "error",
     "ename": "ImportError",
     "evalue": "attempted relative import with no known parent package",
     "traceback": [
      "\u001b[0;31m---------------------------------------------------------------------------\u001b[0m",
      "\u001b[0;31mImportError\u001b[0m                               Traceback (most recent call last)",
      "\u001b[0;32m/var/folders/xn/48lpctpx23q13kn4b9l9bs2c0000gn/T/ipykernel_4183/289087215.py\u001b[0m in \u001b[0;36m<module>\u001b[0;34m\u001b[0m\n\u001b[1;32m      9\u001b[0m \u001b[0;32mimport\u001b[0m \u001b[0mpandas\u001b[0m \u001b[0;32mas\u001b[0m \u001b[0mpd\u001b[0m\u001b[0;34m\u001b[0m\u001b[0;34m\u001b[0m\u001b[0m\n\u001b[1;32m     10\u001b[0m \u001b[0;32mimport\u001b[0m \u001b[0mimport_ipynb\u001b[0m\u001b[0;34m\u001b[0m\u001b[0;34m\u001b[0m\u001b[0m\n\u001b[0;32m---> 11\u001b[0;31m \u001b[0;32mfrom\u001b[0m \u001b[0;34m.\u001b[0m\u001b[0mtest\u001b[0m \u001b[0;32mimport\u001b[0m \u001b[0;34m*\u001b[0m\u001b[0;34m\u001b[0m\u001b[0;34m\u001b[0m\u001b[0m\n\u001b[0m\u001b[1;32m     12\u001b[0m \u001b[0;31m#准备数据\u001b[0m\u001b[0;34m\u001b[0m\u001b[0;34m\u001b[0m\u001b[0;34m\u001b[0m\u001b[0m\n\u001b[1;32m     13\u001b[0m \u001b[0;31m#FundCompanyListCrawler.getFundCompanyDataList()\u001b[0m\u001b[0;34m\u001b[0m\u001b[0;34m\u001b[0m\u001b[0;34m\u001b[0m\u001b[0m\n",
      "\u001b[0;31mImportError\u001b[0m: attempted relative import with no known parent package"
     ]
    }
   ],
   "metadata": {}
  },
  {
   "cell_type": "markdown",
   "source": [],
   "metadata": {}
  },
  {
   "cell_type": "code",
   "execution_count": null,
   "source": [],
   "outputs": [],
   "metadata": {}
  }
 ],
 "metadata": {
  "interpreter": {
   "hash": "5397b01f71eef0c26730d86b7990de7ed8d457ed7b5350b79b942a824022ce58"
  },
  "kernelspec": {
   "name": "python3",
   "display_name": "Python 3.8.10 64-bit ('fundanalysis': conda)"
  },
  "language_info": {
   "codemirror_mode": {
    "name": "ipython",
    "version": 3
   },
   "file_extension": ".py",
   "mimetype": "text/x-python",
   "name": "python",
   "nbconvert_exporter": "python",
   "pygments_lexer": "ipython3",
   "version": "3.8.10"
  }
 },
 "nbformat": 4,
 "nbformat_minor": 4
}