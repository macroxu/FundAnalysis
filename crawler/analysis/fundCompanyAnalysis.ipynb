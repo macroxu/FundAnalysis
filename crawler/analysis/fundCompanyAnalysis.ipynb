{
 "cells": [
  {
   "cell_type": "code",
   "execution_count": 6,
   "source": [
    "#根据基金公司持有资金数额，排行前十，出图标\n",
    "\n",
    "\n",
    "from pyecharts.charts import Bar\n",
    "from snapshot_selenium import snapshot\n",
    "from pyecharts import options as opts\n",
    "from pyecharts.options.global_options import ThemeType\n",
    "#from FundCompanyListCrawler import * \n",
    "import pandas as pd\n",
    "import import_ipynb\n",
    " \n",
    "#准备数据\n",
    "#FundCompanyListCrawler.getFundCompanyDataList()\n",
    " \n",
    "print('helloword')\n",
    "from pyecharts.render import make_snapshot\n",
    "bar = Bar(init_opts=opts.InitOpts(bg_color='rgba(255,255,255,1)',theme=ThemeType.LIGHT))\n",
    "bar.add_xaxis(['工银瑞信', '富国基金', '嘉实基金', '博时基金', '华夏基金', '汇添富基金', '南方基金', '广发基金', '天弘基金', '易方达基金'])\n",
    "bar.add_yaxis(\"资产管理前10基金公司\", [7286.09, 8049.07, 8097.18, 9016.45, 9469.49, 9621.14, 9932.0, 10559.23, 10578.83, 15388.85])\n",
    "bar.reversal_axis().set_series_opts(label_opts=opts.LabelOpts(position=\"right\"))\n",
    "# render 会生成本地 HTML 文件，默认会在当前目录生成 render.html 文件\n",
    "# 也可以传入路径参数，如 bar.render(\"mycharts.html\")\n",
    "\n",
    "#bar.set_global_opts(title_opts=opts.TitleOpts(\"Theme-default\"), )\n",
    "bar.render_notebook()\n",
    "make_snapshot(snapshot, bar.render(), \"Options配置项_自定义样式_保存图片.png\")"
   ],
   "outputs": [
    {
     "output_type": "stream",
     "name": "stdout",
     "text": [
      "helloword\n"
     ]
    }
   ],
   "metadata": {}
  },
  {
   "cell_type": "markdown",
   "source": [],
   "metadata": {}
  },
  {
   "cell_type": "code",
   "execution_count": null,
   "source": [],
   "outputs": [],
   "metadata": {}
  }
 ],
 "metadata": {
  "interpreter": {
   "hash": "5397b01f71eef0c26730d86b7990de7ed8d457ed7b5350b79b942a824022ce58"
  },
  "kernelspec": {
   "name": "python3",
   "display_name": "Python 3.8.10 64-bit ('fundanalysis': conda)"
  },
  "language_info": {
   "codemirror_mode": {
    "name": "ipython",
    "version": 3
   },
   "file_extension": ".py",
   "mimetype": "text/x-python",
   "name": "python",
   "nbconvert_exporter": "python",
   "pygments_lexer": "ipython3",
   "version": "3.8.10"
  }
 },
 "nbformat": 4,
 "nbformat_minor": 4
}